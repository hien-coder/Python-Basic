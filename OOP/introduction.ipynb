{
 "cells": [
  {
   "attachments": {},
   "cell_type": "markdown",
   "metadata": {},
   "source": [
    "# lý thuyết\n",
    "+ `class` là một khái niệm quan trọng dùng để mô tả một đối tượng -> Nó được coi là một bản thiết kế cho một loại đối tượng\n",
    "\n",
    "+ `instance` (thể hiện) tương đương với một đối tượng (object). Nó được tạo ra từ một lớp (class)"
   ]
  },
  {
   "attachments": {},
   "cell_type": "markdown",
   "metadata": {},
   "source": [
    "## 1. Khởi tạo một đối tượng\n",
    "\n",
    "+ \\_\\_init\\_\\_ là hàm khởi tạo (constructor) của class \n",
    "+ từ khóa 'self' giống như từ khóa 'this' trong java -> thây cho đối tượng."
   ]
  },
  {
   "cell_type": "code",
   "execution_count": 1,
   "metadata": {},
   "outputs": [],
   "source": [
    "class User:\n",
    "    age = 18\n",
    "    def __init__(self, name, address):\n",
    "        self.name = name\n",
    "        self.address = address\n",
    "\n",
    "    def getFullInfo(self):\n",
    "        return f'Name: {self.name} | Age: {self.age} | Address: {self.address}'"
   ]
  },
  {
   "cell_type": "code",
   "execution_count": 2,
   "metadata": {},
   "outputs": [],
   "source": [
    "User1 = User('User 1', 'address 1')\n",
    "User2 = User('User 2', 'address 2')"
   ]
  },
  {
   "cell_type": "code",
   "execution_count": 3,
   "metadata": {},
   "outputs": [
    {
     "name": "stdout",
     "output_type": "stream",
     "text": [
      "Name: User 1 | Age: 18 | Address: address 1\n",
      "Name: User 2 | Age: 18 | Address: address 2\n"
     ]
    }
   ],
   "source": [
    "print(User1.getFullInfo())\n",
    "print(User2.getFullInfo())"
   ]
  },
  {
   "attachments": {},
   "cell_type": "markdown",
   "metadata": {},
   "source": [
    "## 2. Thay đổi thuộc tính\n",
    "+ thay đổi thuộc tính thông qua class thì các instance được khởi tạo từ class đều thay đổi theo\n",
    "+ thay đổi thuộc tính của instance thì chỉ instance đó thay đổi."
   ]
  },
  {
   "cell_type": "code",
   "execution_count": 4,
   "metadata": {},
   "outputs": [],
   "source": [
    "User.age = 21"
   ]
  },
  {
   "cell_type": "code",
   "execution_count": 5,
   "metadata": {},
   "outputs": [
    {
     "name": "stdout",
     "output_type": "stream",
     "text": [
      "Name: User 1 | Age: 21 | Address: address 1\n",
      "Name: User 2 | Age: 21 | Address: address 2\n"
     ]
    }
   ],
   "source": [
    "print(User1.getFullInfo())\n",
    "print(User2.getFullInfo())"
   ]
  },
  {
   "cell_type": "code",
   "execution_count": 6,
   "metadata": {},
   "outputs": [
    {
     "data": {
      "text/plain": [
       "'Name: User 1 | Age: 19 | Address: address 1'"
      ]
     },
     "execution_count": 6,
     "metadata": {},
     "output_type": "execute_result"
    }
   ],
   "source": [
    "User1.age = 19\n",
    "User1.getFullInfo()"
   ]
  },
  {
   "cell_type": "code",
   "execution_count": 7,
   "metadata": {},
   "outputs": [
    {
     "name": "stdout",
     "output_type": "stream",
     "text": [
      "Name: User 1 | Age: 19 | Address: address 1\n",
      "Name: User 2 | Age: 21 | Address: address 2\n"
     ]
    }
   ],
   "source": [
    "print(User1.getFullInfo())\n",
    "print(User2.getFullInfo())"
   ]
  },
  {
   "attachments": {},
   "cell_type": "markdown",
   "metadata": {},
   "source": [
    "## 3. Method \n",
    "\n",
    "+ classmethod được sử dụng khi muốn tạo ra một phương thức có thể truy cập đến toàn bộ class, thường dùng để tạo đối tượng\n",
    "+ Regular method luôn được gửi vào parameter self để xử lí những vấn đề khác.\n",
    "+ staticmethod như một hàm bình thường, có thể tạo luôn hàm ở ngoài lớp, không có parameter self."
   ]
  },
  {
   "cell_type": "code",
   "execution_count": 8,
   "metadata": {},
   "outputs": [],
   "source": [
    "class Coures: \n",
    "    def __init__(self, name, author):\n",
    "        self.name = name\n",
    "        self.author = author\n",
    "\n",
    "    @classmethod\n",
    "    def createCoures(cls, name):\n",
    "        name = name.strip()\n",
    "        return cls(name, 'Văn Hiền')\n",
    "        \n",
    "    #  Regular method\n",
    "    def setName(self, name=\"\"):\n",
    "        self.name = name\n",
    "\n",
    "    def getName(self):\n",
    "        return self.name\n",
    "    \n",
    "    @staticmethod\n",
    "    def infoCoures(str):\n",
    "        return str"
   ]
  },
  {
   "cell_type": "code",
   "execution_count": 9,
   "metadata": {},
   "outputs": [],
   "source": [
    "newCoures = Coures.createCoures('Cousres 1')"
   ]
  },
  {
   "cell_type": "code",
   "execution_count": 10,
   "metadata": {},
   "outputs": [
    {
     "data": {
      "text/plain": [
       "'Cousres 1'"
      ]
     },
     "execution_count": 10,
     "metadata": {},
     "output_type": "execute_result"
    }
   ],
   "source": [
    "newCoures.getName()"
   ]
  },
  {
   "cell_type": "code",
   "execution_count": 11,
   "metadata": {},
   "outputs": [
    {
     "data": {
      "text/plain": [
       "'New Coures'"
      ]
     },
     "execution_count": 11,
     "metadata": {},
     "output_type": "execute_result"
    }
   ],
   "source": [
    "newCoures.setName('New Coures')\n",
    "newCoures.getName()"
   ]
  }
 ],
 "metadata": {
  "kernelspec": {
   "display_name": "DATA_SCIENCE",
   "language": "python",
   "name": "python3"
  },
  "language_info": {
   "codemirror_mode": {
    "name": "ipython",
    "version": 3
   },
   "file_extension": ".py",
   "mimetype": "text/x-python",
   "name": "python",
   "nbconvert_exporter": "python",
   "pygments_lexer": "ipython3",
   "version": "3.9.16"
  },
  "orig_nbformat": 4
 },
 "nbformat": 4,
 "nbformat_minor": 2
}
